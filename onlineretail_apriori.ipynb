{
 "cells": [
  {
   "cell_type": "markdown",
   "metadata": {},
   "source": [
    "**24MAI0111_ANMOL CHAUBEY**\n",
    "**APRIORI ALGORITHM**"
   ]
  },
  {
   "cell_type": "code",
   "execution_count": 119,
   "metadata": {},
   "outputs": [],
   "source": [
    "import numpy as np\n",
    "import pandas as pd\n",
    "from mlxtend.frequent_patterns import apriori, association_rules"
   ]
  },
  {
   "cell_type": "code",
   "execution_count": 120,
   "metadata": {},
   "outputs": [
    {
     "name": "stdout",
     "output_type": "stream",
     "text": [
      "24MAI0111_ANMOL CHAUBEY\n"
     ]
    }
   ],
   "source": [
    "#reading the dataset\n",
    "df = pd.read_csv('online_retail.csv')\n",
    "print('24MAI0111_ANMOL CHAUBEY')"
   ]
  },
  {
   "cell_type": "code",
   "execution_count": 121,
   "metadata": {},
   "outputs": [
    {
     "data": {
      "text/html": [
       "<div>\n",
       "<style scoped>\n",
       "    .dataframe tbody tr th:only-of-type {\n",
       "        vertical-align: middle;\n",
       "    }\n",
       "\n",
       "    .dataframe tbody tr th {\n",
       "        vertical-align: top;\n",
       "    }\n",
       "\n",
       "    .dataframe thead th {\n",
       "        text-align: right;\n",
       "    }\n",
       "</style>\n",
       "<table border=\"1\" class=\"dataframe\">\n",
       "  <thead>\n",
       "    <tr style=\"text-align: right;\">\n",
       "      <th></th>\n",
       "      <th>InvoiceNo</th>\n",
       "      <th>StockCode</th>\n",
       "      <th>Description</th>\n",
       "      <th>Quantity</th>\n",
       "      <th>InvoiceDate</th>\n",
       "      <th>UnitPrice</th>\n",
       "      <th>CustomerID</th>\n",
       "      <th>Country</th>\n",
       "    </tr>\n",
       "  </thead>\n",
       "  <tbody>\n",
       "    <tr>\n",
       "      <th>0</th>\n",
       "      <td>536365</td>\n",
       "      <td>85123A</td>\n",
       "      <td>WHITE HANGING HEART T-LIGHT HOLDER</td>\n",
       "      <td>6</td>\n",
       "      <td>2010-12-01 08:26:00</td>\n",
       "      <td>2.55</td>\n",
       "      <td>17850.0</td>\n",
       "      <td>United Kingdom</td>\n",
       "    </tr>\n",
       "    <tr>\n",
       "      <th>1</th>\n",
       "      <td>536365</td>\n",
       "      <td>71053</td>\n",
       "      <td>WHITE METAL LANTERN</td>\n",
       "      <td>6</td>\n",
       "      <td>2010-12-01 08:26:00</td>\n",
       "      <td>3.39</td>\n",
       "      <td>17850.0</td>\n",
       "      <td>United Kingdom</td>\n",
       "    </tr>\n",
       "    <tr>\n",
       "      <th>2</th>\n",
       "      <td>536365</td>\n",
       "      <td>84406B</td>\n",
       "      <td>CREAM CUPID HEARTS COAT HANGER</td>\n",
       "      <td>8</td>\n",
       "      <td>2010-12-01 08:26:00</td>\n",
       "      <td>2.75</td>\n",
       "      <td>17850.0</td>\n",
       "      <td>United Kingdom</td>\n",
       "    </tr>\n",
       "    <tr>\n",
       "      <th>3</th>\n",
       "      <td>536365</td>\n",
       "      <td>84029G</td>\n",
       "      <td>KNITTED UNION FLAG HOT WATER BOTTLE</td>\n",
       "      <td>6</td>\n",
       "      <td>2010-12-01 08:26:00</td>\n",
       "      <td>3.39</td>\n",
       "      <td>17850.0</td>\n",
       "      <td>United Kingdom</td>\n",
       "    </tr>\n",
       "    <tr>\n",
       "      <th>4</th>\n",
       "      <td>536365</td>\n",
       "      <td>84029E</td>\n",
       "      <td>RED WOOLLY HOTTIE WHITE HEART.</td>\n",
       "      <td>6</td>\n",
       "      <td>2010-12-01 08:26:00</td>\n",
       "      <td>3.39</td>\n",
       "      <td>17850.0</td>\n",
       "      <td>United Kingdom</td>\n",
       "    </tr>\n",
       "  </tbody>\n",
       "</table>\n",
       "</div>"
      ],
      "text/plain": [
       "  InvoiceNo StockCode                          Description  Quantity  \\\n",
       "0    536365    85123A   WHITE HANGING HEART T-LIGHT HOLDER         6   \n",
       "1    536365     71053                  WHITE METAL LANTERN         6   \n",
       "2    536365    84406B       CREAM CUPID HEARTS COAT HANGER         8   \n",
       "3    536365    84029G  KNITTED UNION FLAG HOT WATER BOTTLE         6   \n",
       "4    536365    84029E       RED WOOLLY HOTTIE WHITE HEART.         6   \n",
       "\n",
       "           InvoiceDate  UnitPrice  CustomerID         Country  \n",
       "0  2010-12-01 08:26:00       2.55     17850.0  United Kingdom  \n",
       "1  2010-12-01 08:26:00       3.39     17850.0  United Kingdom  \n",
       "2  2010-12-01 08:26:00       2.75     17850.0  United Kingdom  \n",
       "3  2010-12-01 08:26:00       3.39     17850.0  United Kingdom  \n",
       "4  2010-12-01 08:26:00       3.39     17850.0  United Kingdom  "
      ]
     },
     "execution_count": 121,
     "metadata": {},
     "output_type": "execute_result"
    }
   ],
   "source": [
    "df.head()"
   ]
  },
  {
   "cell_type": "code",
   "execution_count": 122,
   "metadata": {},
   "outputs": [
    {
     "data": {
      "text/plain": [
       "InvoiceNo           0\n",
       "StockCode           0\n",
       "Description      1454\n",
       "Quantity            0\n",
       "InvoiceDate         0\n",
       "UnitPrice           0\n",
       "CustomerID     135080\n",
       "Country             0\n",
       "dtype: int64"
      ]
     },
     "execution_count": 122,
     "metadata": {},
     "output_type": "execute_result"
    }
   ],
   "source": [
    "df.isnull().sum()"
   ]
  },
  {
   "cell_type": "code",
   "execution_count": 123,
   "metadata": {},
   "outputs": [],
   "source": [
    "#dropping the rows having null values\n",
    "df = df.dropna(subset=['CustomerID','Description'])"
   ]
  },
  {
   "cell_type": "code",
   "execution_count": 124,
   "metadata": {},
   "outputs": [],
   "source": [
    "#stripping extra spaces in description column\n",
    "df['Description'] = df[\"Description\"].str.strip()"
   ]
  },
  {
   "cell_type": "code",
   "execution_count": 125,
   "metadata": {},
   "outputs": [
    {
     "name": "stdout",
     "output_type": "stream",
     "text": [
      "24MAI0111_ANMOL CHAUBEY\n"
     ]
    }
   ],
   "source": [
    "#transactions done in France\n",
    "basket_France = (df[df['Country'] == \"France\"].groupby(['InvoiceNo', 'Description'])['Quantity'].sum().unstack().reset_index().fillna(0).set_index('InvoiceNo'))\n",
    "print('24MAI0111_ANMOL CHAUBEY')"
   ]
  },
  {
   "cell_type": "code",
   "execution_count": 126,
   "metadata": {},
   "outputs": [],
   "source": [
    "#transactions done in United Kingdom\n",
    "basket_UK = (df[df['Country'] ==\"United Kingdom\"].groupby(['InvoiceNo', 'Description'])['Quantity'].sum().unstack().reset_index().fillna(0).set_index('InvoiceNo'))"
   ]
  },
  {
   "cell_type": "code",
   "execution_count": 127,
   "metadata": {},
   "outputs": [],
   "source": [
    "#transactions done in Portugal\n",
    "basket_Por = (df[df['Country'] ==\"Portugal\"].groupby(['InvoiceNo', 'Description'])['Quantity'].sum().unstack().reset_index().fillna(0).set_index('InvoiceNo'))"
   ]
  },
  {
   "cell_type": "code",
   "execution_count": 128,
   "metadata": {},
   "outputs": [
    {
     "name": "stdout",
     "output_type": "stream",
     "text": [
      "24MAI0111_ANMOL CHAUBEY\n"
     ]
    }
   ],
   "source": [
    "#transactions in Sweden\n",
    "basket_Sweden = (df[df['Country'] ==\"Sweden\"].groupby(['InvoiceNo', 'Description'])['Quantity'].sum().unstack().reset_index().fillna(0).set_index('InvoiceNo'))\n",
    "print('24MAI0111_ANMOL CHAUBEY')"
   ]
  },
  {
   "cell_type": "code",
   "execution_count": 129,
   "metadata": {},
   "outputs": [],
   "source": [
    "#function to convert the quantity to binary value \n",
    "def hot_encoded(x):\n",
    "    if(x<=0):\n",
    "        return 0\n",
    "    if(x>=1):\n",
    "        return 1"
   ]
  },
  {
   "cell_type": "code",
   "execution_count": 130,
   "metadata": {},
   "outputs": [
    {
     "name": "stderr",
     "output_type": "stream",
     "text": [
      "C:\\Users\\Anmol Chaubey\\AppData\\Local\\Temp\\ipykernel_21380\\3930704099.py:2: FutureWarning: DataFrame.applymap has been deprecated. Use DataFrame.map instead.\n",
      "  basket_encoded = basket_France.applymap(hot_encoded)\n"
     ]
    }
   ],
   "source": [
    "#applying hon encoder to convert the quantities to binary value\n",
    "basket_encoded = basket_France.applymap(hot_encoded)\n",
    "basket_France = basket_encoded"
   ]
  },
  {
   "cell_type": "code",
   "execution_count": 131,
   "metadata": {},
   "outputs": [
    {
     "name": "stderr",
     "output_type": "stream",
     "text": [
      "C:\\Users\\Anmol Chaubey\\AppData\\Local\\Temp\\ipykernel_21380\\3597678804.py:1: FutureWarning: DataFrame.applymap has been deprecated. Use DataFrame.map instead.\n",
      "  basket_encoded = basket_UK.applymap(hot_encoded)\n"
     ]
    }
   ],
   "source": [
    "basket_encoded = basket_UK.applymap(hot_encoded)\n",
    "basket_UK = basket_encoded"
   ]
  },
  {
   "cell_type": "code",
   "execution_count": 132,
   "metadata": {},
   "outputs": [
    {
     "name": "stderr",
     "output_type": "stream",
     "text": [
      "C:\\Users\\Anmol Chaubey\\AppData\\Local\\Temp\\ipykernel_21380\\2149878040.py:1: FutureWarning: DataFrame.applymap has been deprecated. Use DataFrame.map instead.\n",
      "  basket_encoded = basket_Por.applymap(hot_encoded)\n"
     ]
    }
   ],
   "source": [
    "basket_encoded = basket_Por.applymap(hot_encoded)\n",
    "basket_Por = basket_encoded"
   ]
  },
  {
   "cell_type": "code",
   "execution_count": 133,
   "metadata": {},
   "outputs": [
    {
     "name": "stderr",
     "output_type": "stream",
     "text": [
      "C:\\Users\\Anmol Chaubey\\AppData\\Local\\Temp\\ipykernel_21380\\1269091881.py:1: FutureWarning: DataFrame.applymap has been deprecated. Use DataFrame.map instead.\n",
      "  basket_encoded = basket_Sweden.applymap(hot_encoded)\n"
     ]
    }
   ],
   "source": [
    "basket_encoded = basket_Sweden.applymap(hot_encoded)\n",
    "basket_Sweden = basket_encoded"
   ]
  },
  {
   "cell_type": "code",
   "execution_count": 134,
   "metadata": {},
   "outputs": [
    {
     "name": "stderr",
     "output_type": "stream",
     "text": [
      "c:\\Users\\Anmol Chaubey\\AppData\\Local\\Programs\\Python\\Python312\\Lib\\site-packages\\mlxtend\\frequent_patterns\\fpcommon.py:109: DeprecationWarning: DataFrames with non-bool types result in worse computationalperformance and their support might be discontinued in the future.Please use a DataFrame with bool type\n",
      "  warnings.warn(\n"
     ]
    }
   ],
   "source": [
    "#applying apriori algorithm to the basket of Sweden, where minimun support of 0.05\n",
    "frq_items = apriori(basket_Sweden, min_support = 0.05, use_colnames = True)"
   ]
  },
  {
   "cell_type": "code",
   "execution_count": 135,
   "metadata": {},
   "outputs": [
    {
     "name": "stdout",
     "output_type": "stream",
     "text": [
      "24MAI0111_ANMOL CHAUBEY\n"
     ]
    },
    {
     "data": {
      "text/html": [
       "<div>\n",
       "<style scoped>\n",
       "    .dataframe tbody tr th:only-of-type {\n",
       "        vertical-align: middle;\n",
       "    }\n",
       "\n",
       "    .dataframe tbody tr th {\n",
       "        vertical-align: top;\n",
       "    }\n",
       "\n",
       "    .dataframe thead th {\n",
       "        text-align: right;\n",
       "    }\n",
       "</style>\n",
       "<table border=\"1\" class=\"dataframe\">\n",
       "  <thead>\n",
       "    <tr style=\"text-align: right;\">\n",
       "      <th></th>\n",
       "      <th>antecedents</th>\n",
       "      <th>consequents</th>\n",
       "      <th>support</th>\n",
       "      <th>confidence</th>\n",
       "      <th>lift</th>\n",
       "    </tr>\n",
       "  </thead>\n",
       "  <tbody>\n",
       "    <tr>\n",
       "      <th>12</th>\n",
       "      <td>(TREASURE TIN BUFFALO BILL)</td>\n",
       "      <td>(BUBBLEGUM RING ASSORTED)</td>\n",
       "      <td>0.065217</td>\n",
       "      <td>1.000000</td>\n",
       "      <td>15.333333</td>\n",
       "    </tr>\n",
       "    <tr>\n",
       "      <th>13</th>\n",
       "      <td>(BUBBLEGUM RING ASSORTED)</td>\n",
       "      <td>(TREASURE TIN BUFFALO BILL)</td>\n",
       "      <td>0.065217</td>\n",
       "      <td>1.000000</td>\n",
       "      <td>15.333333</td>\n",
       "    </tr>\n",
       "    <tr>\n",
       "      <th>14</th>\n",
       "      <td>(BUBBLEGUM RING ASSORTED)</td>\n",
       "      <td>(TREASURE TIN GYMKHANA DESIGN)</td>\n",
       "      <td>0.065217</td>\n",
       "      <td>1.000000</td>\n",
       "      <td>15.333333</td>\n",
       "    </tr>\n",
       "    <tr>\n",
       "      <th>15</th>\n",
       "      <td>(TREASURE TIN GYMKHANA DESIGN)</td>\n",
       "      <td>(BUBBLEGUM RING ASSORTED)</td>\n",
       "      <td>0.065217</td>\n",
       "      <td>1.000000</td>\n",
       "      <td>15.333333</td>\n",
       "    </tr>\n",
       "    <tr>\n",
       "      <th>32</th>\n",
       "      <td>(MAGIC DRAWING SLATE DOLLY GIRL)</td>\n",
       "      <td>(MAGIC DRAWING SLATE PURDEY)</td>\n",
       "      <td>0.065217</td>\n",
       "      <td>1.000000</td>\n",
       "      <td>15.333333</td>\n",
       "    </tr>\n",
       "    <tr>\n",
       "      <th>...</th>\n",
       "      <td>...</td>\n",
       "      <td>...</td>\n",
       "      <td>...</td>\n",
       "      <td>...</td>\n",
       "      <td>...</td>\n",
       "    </tr>\n",
       "    <tr>\n",
       "      <th>181</th>\n",
       "      <td>(POSTAGE)</td>\n",
       "      <td>(RED TOADSTOOL LED NIGHT LIGHT, RABBIT NIGHT L...</td>\n",
       "      <td>0.065217</td>\n",
       "      <td>0.136364</td>\n",
       "      <td>2.090909</td>\n",
       "    </tr>\n",
       "    <tr>\n",
       "      <th>185</th>\n",
       "      <td>(POSTAGE)</td>\n",
       "      <td>(WALL TIDY RETROSPOT, RED RETROSPOT CHARLOTTE ...</td>\n",
       "      <td>0.065217</td>\n",
       "      <td>0.136364</td>\n",
       "      <td>2.090909</td>\n",
       "    </tr>\n",
       "    <tr>\n",
       "      <th>192</th>\n",
       "      <td>(POSTAGE)</td>\n",
       "      <td>(RED TOADSTOOL LED NIGHT LIGHT, WALL TIDY RETR...</td>\n",
       "      <td>0.065217</td>\n",
       "      <td>0.136364</td>\n",
       "      <td>2.090909</td>\n",
       "    </tr>\n",
       "    <tr>\n",
       "      <th>71</th>\n",
       "      <td>(POSTAGE)</td>\n",
       "      <td>(ROUND SNACK BOXES SET OF 4 FRUITS)</td>\n",
       "      <td>0.065217</td>\n",
       "      <td>0.136364</td>\n",
       "      <td>1.568182</td>\n",
       "    </tr>\n",
       "    <tr>\n",
       "      <th>76</th>\n",
       "      <td>(POSTAGE)</td>\n",
       "      <td>(WOODEN OWLS LIGHT GARLAND)</td>\n",
       "      <td>0.065217</td>\n",
       "      <td>0.136364</td>\n",
       "      <td>1.568182</td>\n",
       "    </tr>\n",
       "  </tbody>\n",
       "</table>\n",
       "<p>228 rows × 5 columns</p>\n",
       "</div>"
      ],
      "text/plain": [
       "                          antecedents  \\\n",
       "12        (TREASURE TIN BUFFALO BILL)   \n",
       "13          (BUBBLEGUM RING ASSORTED)   \n",
       "14          (BUBBLEGUM RING ASSORTED)   \n",
       "15     (TREASURE TIN GYMKHANA DESIGN)   \n",
       "32   (MAGIC DRAWING SLATE DOLLY GIRL)   \n",
       "..                                ...   \n",
       "181                         (POSTAGE)   \n",
       "185                         (POSTAGE)   \n",
       "192                         (POSTAGE)   \n",
       "71                          (POSTAGE)   \n",
       "76                          (POSTAGE)   \n",
       "\n",
       "                                           consequents   support  confidence  \\\n",
       "12                           (BUBBLEGUM RING ASSORTED)  0.065217    1.000000   \n",
       "13                         (TREASURE TIN BUFFALO BILL)  0.065217    1.000000   \n",
       "14                      (TREASURE TIN GYMKHANA DESIGN)  0.065217    1.000000   \n",
       "15                           (BUBBLEGUM RING ASSORTED)  0.065217    1.000000   \n",
       "32                        (MAGIC DRAWING SLATE PURDEY)  0.065217    1.000000   \n",
       "..                                                 ...       ...         ...   \n",
       "181  (RED TOADSTOOL LED NIGHT LIGHT, RABBIT NIGHT L...  0.065217    0.136364   \n",
       "185  (WALL TIDY RETROSPOT, RED RETROSPOT CHARLOTTE ...  0.065217    0.136364   \n",
       "192  (RED TOADSTOOL LED NIGHT LIGHT, WALL TIDY RETR...  0.065217    0.136364   \n",
       "71                 (ROUND SNACK BOXES SET OF 4 FRUITS)  0.065217    0.136364   \n",
       "76                         (WOODEN OWLS LIGHT GARLAND)  0.065217    0.136364   \n",
       "\n",
       "          lift  \n",
       "12   15.333333  \n",
       "13   15.333333  \n",
       "14   15.333333  \n",
       "15   15.333333  \n",
       "32   15.333333  \n",
       "..         ...  \n",
       "181   2.090909  \n",
       "185   2.090909  \n",
       "192   2.090909  \n",
       "71    1.568182  \n",
       "76    1.568182  \n",
       "\n",
       "[228 rows x 5 columns]"
      ]
     },
     "execution_count": 135,
     "metadata": {},
     "output_type": "execute_result"
    }
   ],
   "source": [
    "#generate the rules using lift as metric with a minimum threshhold of 1\n",
    "print('24MAI0111_ANMOL CHAUBEY')\n",
    "rules = association_rules(frq_items, metric =\"lift\", min_threshold = 1)\n",
    "#sort the rules in descending order\n",
    "rules = rules.sort_values(['confidence', 'lift'], ascending =[False, False])\n",
    "#rules.head()\n",
    "final_result = rules[['antecedents', 'consequents', 'support', 'confidence', 'lift']]\n",
    "final_result"
   ]
  }
 ],
 "metadata": {
  "kernelspec": {
   "display_name": "Python 3",
   "language": "python",
   "name": "python3"
  },
  "language_info": {
   "codemirror_mode": {
    "name": "ipython",
    "version": 3
   },
   "file_extension": ".py",
   "mimetype": "text/x-python",
   "name": "python",
   "nbconvert_exporter": "python",
   "pygments_lexer": "ipython3",
   "version": "3.12.3"
  }
 },
 "nbformat": 4,
 "nbformat_minor": 2
}
